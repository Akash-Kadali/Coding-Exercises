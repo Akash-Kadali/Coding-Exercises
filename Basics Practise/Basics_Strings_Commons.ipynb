{
  "nbformat": 4,
  "nbformat_minor": 0,
  "metadata": {
    "colab": {
      "provenance": []
    },
    "kernelspec": {
      "name": "python3",
      "display_name": "Python 3"
    },
    "language_info": {
      "name": "python"
    }
  },
  "cells": [
    {
      "cell_type": "code",
      "source": [
        "def sum_list(numbers):\n",
        "    # Your code goes here\n",
        "    total = 0\n",
        "    for num in numbers:\n",
        "        total += num  # Add each number to the total\n",
        "    return total"
      ],
      "metadata": {
        "id": "wbQ5b2jZM36D"
      },
      "execution_count": 11,
      "outputs": []
    },
    {
      "cell_type": "code",
      "source": [
        "def find_largest(numbers):\n",
        "    # Your code goes here\n",
        "    k = numbers[0]\n",
        "    for num in numbers:\n",
        "        if num>k:\n",
        "            k = num\n",
        "        else:\n",
        "            num\n",
        "    return k"
      ],
      "metadata": {
        "id": "-IY9gzrbM3-O"
      },
      "execution_count": 12,
      "outputs": []
    },
    {
      "cell_type": "code",
      "source": [
        "def remove_duplicates(lst):\n",
        "    # Your code goes here\n",
        "    tup = set(lst)\n",
        "    new_lst = list(tup)\n",
        "    return new_lst\n"
      ],
      "metadata": {
        "id": "mnNcYNWPbElL"
      },
      "execution_count": 13,
      "outputs": []
    },
    {
      "cell_type": "code",
      "source": [
        "def check_unique(lst):\n",
        "    # Your code goes here\n",
        "    return len(lst) == len(set(lst))"
      ],
      "metadata": {
        "id": "1dDegkOyM4Bd"
      },
      "execution_count": 14,
      "outputs": []
    },
    {
      "cell_type": "code",
      "source": [
        "def reverse_list(lst):\n",
        "    # Your code goes here\n",
        "    return lst[len(lst)::-1]"
      ],
      "metadata": {
        "id": "tlYnZwvLEuDz"
      },
      "execution_count": 15,
      "outputs": []
    },
    {
      "cell_type": "code",
      "source": [
        "def count_even_odd(lst):\n",
        "    # Your code goes here\n",
        "    odd, even = 0, 0\n",
        "    for element in lst:\n",
        "        if element%2 == 0:\n",
        "            even += 1\n",
        "        else:\n",
        "            odd += 1\n",
        "    return even, odd"
      ],
      "metadata": {
        "id": "FA-ypgarIdIu"
      },
      "execution_count": 16,
      "outputs": []
    },
    {
      "cell_type": "code",
      "source": [
        "def is_subset(lst1, lst2):\n",
        "    # Your code goes here\n",
        "    set_1, set_2 = set(lst1), set(lst2)\n",
        "    return set_1.issubset(set_2)"
      ],
      "metadata": {
        "id": "5m7sekx_IdLH"
      },
      "execution_count": 17,
      "outputs": []
    },
    {
      "cell_type": "code",
      "source": [
        "def max_consecutive_difference(lst):\n",
        "    # Your code goes here\n",
        "    if len(lst) < 2:\n",
        "        return 0  # No consecutive differences possible\n",
        "\n",
        "    max_diff = 0\n",
        "    for i in range(len(lst) - 1):\n",
        "        diff = abs(lst[i + 1] - lst[i])\n",
        "        if diff > max_diff:\n",
        "            max_diff = diff\n",
        "    return max_diff"
      ],
      "metadata": {
        "id": "zfp6EmnlIdNi"
      },
      "execution_count": 18,
      "outputs": []
    },
    {
      "cell_type": "code",
      "source": [
        "def merge_two_sorted_lists(list1, list2):\n",
        "    # Your code goes here\n",
        "    list3 = list1 + list2\n",
        "    return sorted(list3)"
      ],
      "metadata": {
        "id": "8TvcehlQIdQH"
      },
      "execution_count": 19,
      "outputs": []
    },
    {
      "cell_type": "code",
      "source": [
        "def rotate_list(lst, k):\n",
        "    # Your code goes here\n",
        "    if len(lst) == 0:\n",
        "        return []\n",
        "    k = k % len(lst)  # Handle cases where k is greater than the list length\n",
        "    return lst[-k:] + lst[:-k]"
      ],
      "metadata": {
        "id": "yvOZWyNOIdTj"
      },
      "execution_count": 20,
      "outputs": []
    },
    {
      "cell_type": "code",
      "source": [
        "def merge_lists_to_dictionary(keys, values):\n",
        "    # Your code goes here\n",
        "    if len(keys) != len(values):\n",
        "        return False\n",
        "    return dict(zip(keys, values))"
      ],
      "metadata": {
        "id": "eQkIfNAJItqy"
      },
      "execution_count": 21,
      "outputs": []
    },
    {
      "cell_type": "code",
      "source": [
        "def merge_three_dictionaries(dict1, dict2, dict3):\n",
        "    # Your code goes here\n",
        "    return {**dict1, **dict2, **dict3}"
      ],
      "metadata": {
        "id": "18s896rnIttZ"
      },
      "execution_count": 22,
      "outputs": []
    },
    {
      "cell_type": "code",
      "source": [
        "def count_word_frequency(sentence):\n",
        "    # Your code goes here\n",
        "    words = sentence.split()\n",
        "    frequency = {}\n",
        "    for word in words:\n",
        "        frequency[word] = frequency.get(word, 0 ) + 1\n",
        "    return frequency"
      ],
      "metadata": {
        "id": "sfV4j27oItv4"
      },
      "execution_count": 23,
      "outputs": []
    },
    {
      "cell_type": "code",
      "source": [
        "def is_palindromic_tuple(tup):\n",
        "    # Your code goes here\n",
        "    lst = list(tup)\n",
        "    return lst[::-1] == lst\n"
      ],
      "metadata": {
        "id": "OTUQdihPItyf"
      },
      "execution_count": 24,
      "outputs": []
    },
    {
      "cell_type": "code",
      "source": [
        "def merge_dicts_with_overlapping_keys(dicts):\n",
        "    # Your code goes here\n",
        "    result = {}\n",
        "    for d in dicts:\n",
        "        for key, value in d.items():\n",
        "            if key in result:\n",
        "                result[key] += value\n",
        "            else:\n",
        "                result[key] = value\n",
        "    return result"
      ],
      "metadata": {
        "id": "deMOoiHYIt0-"
      },
      "execution_count": 25,
      "outputs": []
    },
    {
      "cell_type": "code",
      "source": [
        "def sum_of_even_numbers(n):\n",
        "    \"\"\"\n",
        "    Function to return the sum of the first n even natural numbers.\n",
        "\n",
        "    Parameters:\n",
        "    n (int): The number of even numbers to sum.\n",
        "\n",
        "    Returns:\n",
        "    int: The sum of the first n even natural numbers.\n",
        "    \"\"\"\n",
        "    # Your code here\n",
        "    return n*(n+1)"
      ],
      "metadata": {
        "id": "A9mGHFPkIt3Q"
      },
      "execution_count": 26,
      "outputs": []
    },
    {
      "cell_type": "code",
      "source": [
        "def is_even(n):\n",
        "    \"\"\"\n",
        "    Function to check if a number is even.\n",
        "\n",
        "    Parameters:\n",
        "    n (int): The number to check.\n",
        "\n",
        "    Returns:\n",
        "    bool: True if n is even, False otherwise.\n",
        "    \"\"\"\n",
        "    # Your code here\n",
        "    return n%2 == 0"
      ],
      "metadata": {
        "id": "5WdiWMYQIt6M"
      },
      "execution_count": 27,
      "outputs": []
    },
    {
      "cell_type": "code",
      "source": [
        "def is_prime(n):\n",
        "    \"\"\"\n",
        "    Function to check if a number is prime.\n",
        "\n",
        "    Parameters:\n",
        "    n (int): The number to check.\n",
        "\n",
        "    Returns:\n",
        "    bool: True if n is prime, False otherwise.\n",
        "    \"\"\"\n",
        "    for i in range(2, n):  # Start from 2 because 1 is not used for divisibility checks\n",
        "        if n % i == 0:    # Check if n is divisible by any number other than 1 and itself\n",
        "            return False\n",
        "    return n > 1  # Return True if no divisors found and n > 1"
      ],
      "metadata": {
        "id": "FEkCBbmuIt9k"
      },
      "execution_count": 28,
      "outputs": []
    },
    {
      "cell_type": "code",
      "source": [
        "def is_perfect_square(num):\n",
        "    \"\"\"\n",
        "    Function to check if a number is a perfect square.\n",
        "\n",
        "    Parameters:\n",
        "    num (int): The number to check.\n",
        "\n",
        "    Returns:\n",
        "    bool: True if num is a perfect square, False otherwise.\n",
        "    \"\"\"\n",
        "    if num < 1:\n",
        "        return False\n",
        "\n",
        "    sqrt = int(num ** 0.5)\n",
        "    return sqrt * sqrt == num"
      ],
      "metadata": {
        "id": "SRVwr-5rJKhY"
      },
      "execution_count": 29,
      "outputs": []
    },
    {
      "cell_type": "code",
      "source": [
        "def int_to_binary(n):\n",
        "    \"\"\"\n",
        "    Function to convert an integer to its binary representation.\n",
        "\n",
        "    Parameters:\n",
        "    n (int): The integer to convert.\n",
        "\n",
        "    Returns:\n",
        "    str: The binary representation of the integer.\n",
        "    \"\"\"\n",
        "    # Your code here\n",
        "    if n == 0:\n",
        "        return \"0\"\n",
        "    k = []\n",
        "    a = abs(n)\n",
        "    while a>0:\n",
        "        k.append(str(a%2))\n",
        "        a //= 2\n",
        "    binary_rep = \"\".join(k[::-1])\n",
        "    if n<0:\n",
        "        binary_rep = \"-\" + binary_rep\n",
        "\n",
        "    return binary_rep"
      ],
      "metadata": {
        "id": "PF5pCasFJNxf"
      },
      "execution_count": 30,
      "outputs": []
    },
    {
      "cell_type": "code",
      "source": [
        "def binary_to_decimal(binary_str):\n",
        "    \"\"\"\n",
        "    Function to convert a binary string to its decimal integer representation.\n",
        "\n",
        "    Parameters:\n",
        "    binary_str (str): The binary string to convert.\n",
        "\n",
        "    Returns:\n",
        "    int: The decimal representation of the binary string.\n",
        "    \"\"\"\n",
        "    # Your code here\n",
        "    binary_str = binary_str[::-1]\n",
        "    temp = 0\n",
        "    decimal = 0\n",
        "    for i in binary_str:\n",
        "      digit = int(i)\n",
        "      decimal += digit * 2**temp\n",
        "      temp += 1\n",
        "\n",
        "    return decimal"
      ],
      "metadata": {
        "id": "bt4eNtjwJOkx"
      },
      "execution_count": 31,
      "outputs": []
    },
    {
      "cell_type": "code",
      "source": [
        "def gcd(n, m):\n",
        "    \"\"\"\n",
        "    Function to find the GCD of two integers without using built-in functions and recursion.\n",
        "\n",
        "    Parameters:\n",
        "    n (int): The first integer.\n",
        "    m (int): The second integer.\n",
        "\n",
        "    Returns:\n",
        "    int: The GCD of n and m.\n",
        "    \"\"\"\n",
        "    # Your code here\n",
        "    for i in range(min(m,n), 0, -1):\n",
        "        if m%i == 0 and n%i == 0:\n",
        "            return i\n",
        "    return 1"
      ],
      "metadata": {
        "id": "d7Yo1S0DJfUg"
      },
      "execution_count": 32,
      "outputs": []
    }
  ]
}