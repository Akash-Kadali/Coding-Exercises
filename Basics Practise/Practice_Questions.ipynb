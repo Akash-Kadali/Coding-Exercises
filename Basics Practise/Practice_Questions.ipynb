{
  "nbformat": 4,
  "nbformat_minor": 0,
  "metadata": {
    "colab": {
      "provenance": []
    },
    "kernelspec": {
      "name": "python3",
      "display_name": "Python 3"
    },
    "language_info": {
      "name": "python"
    }
  },
  "cells": [
    {
      "cell_type": "code",
      "execution_count": null,
      "metadata": {
        "id": "JwZRcN7JQF29"
      },
      "outputs": [],
      "source": [
        "def binary_to_decimal(binary_str):\n",
        "    \"\"\"\n",
        "    Function to convert a binary string to its decimal integer representation.\n",
        "\n",
        "    Parameters:\n",
        "    binary_str (str): The binary string to convert.\n",
        "\n",
        "    Returns:\n",
        "    int: The decimal representation of the binary string.\n",
        "    \"\"\"\n",
        "    # Your code here\n",
        "    binary_str = binary_str[::-1]\n",
        "    temp = 0\n",
        "    decimal = 0\n",
        "    for i in binary_str:\n",
        "      digit = int(i)\n",
        "      decimal += digit * 2**temp\n",
        "      temp += 1\n",
        "\n",
        "    return decimal"
      ]
    },
    {
      "cell_type": "code",
      "source": [
        "def gcd(n, m):\n",
        "    \"\"\"\n",
        "    Function to find the GCD of two integers without using built-in functions and recursion.\n",
        "\n",
        "    Parameters:\n",
        "    n (int): The first integer.\n",
        "    m (int): The second integer.\n",
        "\n",
        "    Returns:\n",
        "    int: The GCD of n and m.\n",
        "    \"\"\"\n",
        "    # Your code here\n",
        "    for i in range(min(m,n), 0, -1):\n",
        "        if m%i == 0 and n%i == 0:\n",
        "            return i\n",
        "    return 1"
      ],
      "metadata": {
        "id": "yr9E0q0_QKlX"
      },
      "execution_count": null,
      "outputs": []
    },
    {
      "cell_type": "code",
      "source": [
        "def reverse_string(s):\n",
        "    \"\"\"\n",
        "    Function to return the reversed version of the input string.\n",
        "\n",
        "    Parameters:\n",
        "    s (str): The input string to be reversed.\n",
        "\n",
        "    Returns:\n",
        "    str: The reversed string.\n",
        "    \"\"\"\n",
        "    # Your code here\n",
        "    return s[::-1]"
      ],
      "metadata": {
        "id": "ezkYFIlrQKn8"
      },
      "execution_count": null,
      "outputs": []
    },
    {
      "cell_type": "code",
      "source": [
        "def count_vowels(s):\n",
        "    \"\"\"\n",
        "    Function to count the number of vowels in the input string.\n",
        "\n",
        "    Parameters:\n",
        "    s (str): The input string to check for vowels.\n",
        "\n",
        "    Returns:\n",
        "    int: The count of vowels in the input string.\n",
        "    \"\"\"\n",
        "    # Your code here\n",
        "    count = 0\n",
        "    s = s.lower()\n",
        "    for i in s:\n",
        "        if i in \"aeiou\":\n",
        "            count += 1\n",
        "    return count"
      ],
      "metadata": {
        "id": "Nm79ltpcQKq-"
      },
      "execution_count": null,
      "outputs": []
    },
    {
      "cell_type": "code",
      "source": [
        "def are_equal_strings(s, t):\n",
        "    \"\"\"\n",
        "    Function to check if two strings are equal without using built-in functions.\n",
        "\n",
        "    Parameters:\n",
        "    s (str): The first string.\n",
        "    t (str): The second string.\n",
        "\n",
        "    Returns:\n",
        "    bool: True if the strings are equal, False otherwise.\n",
        "    \"\"\"\n",
        "    # Your code here\n",
        "    if s == t:\n",
        "        return True\n",
        "    else:\n",
        "        return False"
      ],
      "metadata": {
        "id": "3k3_NbHMQKtw"
      },
      "execution_count": null,
      "outputs": []
    },
    {
      "cell_type": "code",
      "source": [
        "def is_palindrome(s):\n",
        "    \"\"\"\n",
        "    Function to check if the input string is a palindrome.\n",
        "\n",
        "    Parameters:\n",
        "    s (str): The input string to check.\n",
        "\n",
        "    Returns:\n",
        "    bool: True if the string is a palindrome, False otherwise.\n",
        "    \"\"\"\n",
        "    # Your code here\n",
        "    s = \"\".join(s.split()).lower()\n",
        "    if s == s[::-1]:\n",
        "        return True\n",
        "    else:\n",
        "        return False"
      ],
      "metadata": {
        "id": "ptCm-mKAQKwT"
      },
      "execution_count": null,
      "outputs": []
    },
    {
      "cell_type": "code",
      "source": [
        "def count_words(s):\n",
        "    \"\"\"\n",
        "    Function to count the number of words in the input string.\n",
        "\n",
        "    Parameters:\n",
        "    s (str): The input string to check for words.\n",
        "\n",
        "    Returns:\n",
        "    int: The count of words in the input string.\n",
        "    \"\"\"\n",
        "    # Your code here\n",
        "    words = s.split()\n",
        "    return len(words)"
      ],
      "metadata": {
        "id": "cnB1lnjKQKzB"
      },
      "execution_count": null,
      "outputs": []
    },
    {
      "cell_type": "code",
      "source": [
        "def remove_duplicates(s):\n",
        "    \"\"\"\n",
        "    Function to remove duplicate characters from the input string.\n",
        "\n",
        "    Parameters:\n",
        "    s (str): The input string from which duplicates need to be removed.\n",
        "\n",
        "    Returns:\n",
        "    str: The modified string with duplicates removed.\n",
        "    \"\"\"\n",
        "    # Your code here\n",
        "    k = \"\"\n",
        "    for i in s:\n",
        "        if i not in k:\n",
        "            k+=i\n",
        "    return k"
      ],
      "metadata": {
        "id": "KEpQOIQAQiQB"
      },
      "execution_count": null,
      "outputs": []
    },
    {
      "cell_type": "code",
      "source": [
        "def count_consonants(s):\n",
        "    \"\"\"\n",
        "    Function to count the number of consonants in the input string.\n",
        "\n",
        "    Parameters:\n",
        "    s (str): The input string to check for consonants.\n",
        "\n",
        "    Returns:\n",
        "    int: The count of consonants in the input string.\n",
        "    \"\"\"\n",
        "    # Your code here\n",
        "    count = 0\n",
        "    s = s.lower()\n",
        "    for i in s:\n",
        "        if i in \"bcdfghjklmnpqrstvwxyz\":\n",
        "            count+=1\n",
        "    return count"
      ],
      "metadata": {
        "id": "PhC9IEU3QiSq"
      },
      "execution_count": null,
      "outputs": []
    },
    {
      "cell_type": "code",
      "source": [
        "def is_anagram(s, t):\n",
        "    \"\"\"\n",
        "    Function to check if t is an anagram of s.\n",
        "\n",
        "    Parameters:\n",
        "    s (str): The first input string.\n",
        "    t (str): The second input string.\n",
        "\n",
        "    Returns:\n",
        "    bool: True if t is an anagram of s, False otherwise.\n",
        "    \"\"\"\n",
        "    # Your code here\n",
        "    s = \"\".join(s.split()).lower()\n",
        "    t = \"\".join(t.split()).lower()\n",
        "    if \"\".join(sorted(s)) == \"\".join(sorted(t)):\n",
        "        return True\n",
        "    else:\n",
        "        return False"
      ],
      "metadata": {
        "id": "V9V5fmAlQiVg"
      },
      "execution_count": null,
      "outputs": []
    },
    {
      "cell_type": "code",
      "source": [
        "def is_subsequence(s, t):\n",
        "    \"\"\"\n",
        "    Function to check if t is a subsequence of s.\n",
        "\n",
        "    Parameters:\n",
        "    s (str): The original string.\n",
        "    t (str): The target subsequence string.\n",
        "\n",
        "    Returns:\n",
        "    bool: True if t is a subsequence of s, False otherwise.\n",
        "    \"\"\"\n",
        "    j = 0\n",
        "    for char in s:\n",
        "        if j<len(t) and t[j] == char:\n",
        "            j+=1\n",
        "    return j == len(t)"
      ],
      "metadata": {
        "id": "BFYNwfikQiY8"
      },
      "execution_count": null,
      "outputs": []
    },
    {
      "cell_type": "code",
      "source": [
        "def is_substring(s, t):\n",
        "    \"\"\"\n",
        "    Function to check if string t is a substring of string s without using built-in functions and recursion.\n",
        "\n",
        "    Parameters:\n",
        "    s (str): The main string.\n",
        "    t (str): The string to check as a substring.\n",
        "\n",
        "    Returns:\n",
        "    bool: True if t is a substring of s, False otherwise.\n",
        "    \"\"\"\n",
        "    # Your code here\n",
        "    if t in s:\n",
        "        return True"
      ],
      "metadata": {
        "id": "zI_ytMZTQK2G"
      },
      "execution_count": null,
      "outputs": []
    },
    {
      "cell_type": "code",
      "source": [
        "def longest_word_length(s):\n",
        "    \"\"\"\n",
        "    Function to find the length of the longest word in a string without using built-in functions.\n",
        "\n",
        "    Parameters:\n",
        "    s (str): The input string.\n",
        "\n",
        "    Returns:\n",
        "    int: The length of the longest word.\n",
        "    \"\"\"\n",
        "    # Your code here\n",
        "    words = s.split()\n",
        "    length = 0\n",
        "    for word in words:\n",
        "        if len(word)>length:\n",
        "            length = len(word)\n",
        "    return length"
      ],
      "metadata": {
        "id": "2ljnjmVSQK5f"
      },
      "execution_count": null,
      "outputs": []
    },
    {
      "cell_type": "code",
      "source": [
        "def linear_search(arr, target):\n",
        "    # TODO: Implement this function\n",
        "    for i in range(0,len(arr)):\n",
        "        if arr[i] == target:\n",
        "            return i\n",
        "\n",
        "    return -1"
      ],
      "metadata": {
        "id": "TmdIr96AQ3UQ"
      },
      "execution_count": null,
      "outputs": []
    },
    {
      "cell_type": "code",
      "source": [
        "def bubble_sort(lst):\n",
        "    # Your code goes here\n",
        "    for i in range(len(lst)):\n",
        "        for j in range(len(lst) - i -1):\n",
        "            if lst[j] > lst[j+1]:\n",
        "                lst[j], lst[j+1] = lst[j+1], lst[j]\n",
        "    return lst"
      ],
      "metadata": {
        "id": "bewvg8zSQ3W6"
      },
      "execution_count": null,
      "outputs": []
    },
    {
      "cell_type": "code",
      "source": [
        "def selection_sort(lst):\n",
        "    # Your code goes here\n",
        "    n = len(lst)\n",
        "\n",
        "    for i in range(n-1):\n",
        "        min_index = i\n",
        "        for j in range(i+1,n):\n",
        "            if lst[j]<lst[min_index]:\n",
        "                min_index = j\n",
        "        lst[min_index], lst[i] = lst[i], lst[min_index]\n",
        "\n",
        "\n",
        "    return lst"
      ],
      "metadata": {
        "id": "FviGS-MmQ3ad"
      },
      "execution_count": null,
      "outputs": []
    },
    {
      "cell_type": "code",
      "source": [
        "def insertion_sort(lst):\n",
        "    \"\"\"\n",
        "    Function to perform insertion sort on a list without using a while loop.\n",
        "\n",
        "    Parameters:\n",
        "    lst (list): The list to be sorted.\n",
        "\n",
        "    Returns:\n",
        "    list: The sorted list.\n",
        "    \"\"\"\n",
        "    n = len(lst)\n",
        "\n",
        "    # Start from the second element as the first element is trivially sorted\n",
        "    for i in range(1, n):\n",
        "        key = lst[i]  # The element to be placed in the correct position\n",
        "\n",
        "        # Iterate backward from index `i-1` to 0 to find the correct position\n",
        "        for j in range(i - 1, -1, -1):\n",
        "            if lst[j] > key:\n",
        "                lst[j + 1] = lst[j]  # Shift the element to the right\n",
        "            else:\n",
        "                # Place the key at the correct position and break the loop\n",
        "                lst[j + 1] = key\n",
        "                break\n",
        "        else:\n",
        "            # If no break occurred, place the key at the start\n",
        "            lst[0] = key\n",
        "\n",
        "    return lst"
      ],
      "metadata": {
        "id": "ayXz8AwFRKGU"
      },
      "execution_count": null,
      "outputs": []
    },
    {
      "cell_type": "code",
      "source": [
        "def countNegatives(grid):\n",
        "    # Implement your solution here\n",
        "    m = len(grid)\n",
        "    n = len(grid[0])\n",
        "    count = 0\n",
        "    for i in range(m):\n",
        "        for j in range(n):\n",
        "            if grid[i][j] < 0:\n",
        "                count += 1\n",
        "    return count"
      ],
      "metadata": {
        "id": "w-6CxVinRKNQ"
      },
      "execution_count": null,
      "outputs": []
    },
    {
      "cell_type": "code",
      "source": [
        "def next_greatest_letter(letters, target):\n",
        "    \"\"\"\n",
        "    Return the smallest character in letters that is lexicographically greater than target.\n",
        "\n",
        "    Parameters:\n",
        "    letters (List[char]): Sorted array of characters.\n",
        "    target (char): The target character.\n",
        "\n",
        "    Returns:\n",
        "    char: The smallest character greater than target, or the first character if no such character exists.\n",
        "    \"\"\"\n",
        "    for char in letters:\n",
        "        if char > target:\n",
        "            return char\n",
        "    # If no character is greater than target, return the first character (wrap-around case)\n",
        "    return letters[0]"
      ],
      "metadata": {
        "id": "3Bd0GQwORKQV"
      },
      "execution_count": null,
      "outputs": []
    },
    {
      "cell_type": "code",
      "source": [
        "def searchRange(nums, target):\n",
        "    # Implement your solution here\n",
        "    if target not in nums:\n",
        "        return[-1, -1]\n",
        "\n",
        "    reverse_nums = nums[::-1]\n",
        "    if target in nums:\n",
        "        int_1 = nums.index(target)\n",
        "        int_2 =  len(nums) -1 - reverse_nums.index(target)\n",
        "\n",
        "    return[int_1,int_2]"
      ],
      "metadata": {
        "id": "oDrxOU9bRKTx"
      },
      "execution_count": null,
      "outputs": []
    },
    {
      "cell_type": "code",
      "source": [
        "def findMin(nums):\n",
        "    # Implement your solution here\n",
        "    return min(nums)"
      ],
      "metadata": {
        "id": "zkpwtu6WQ3dr"
      },
      "execution_count": null,
      "outputs": []
    },
    {
      "cell_type": "code",
      "source": [
        "def search(nums, target):\n",
        "    # Implement your solution here\n",
        "    if target in nums:\n",
        "        return nums.index(target)\n",
        "    else:\n",
        "        return -1"
      ],
      "metadata": {
        "id": "Eu-vcjNUQ3j1"
      },
      "execution_count": null,
      "outputs": []
    },
    {
      "cell_type": "code",
      "source": [
        "def find_max_element(lst):\n",
        "    \"\"\"\n",
        "    Function to find the maximum element in a list.\n",
        "    :param lst: List[int] -> List of integers\n",
        "    :return: int -> The maximum element in the list\n",
        "    \"\"\"\n",
        "    # TODO: Implement this function\n",
        "    return max(lst)"
      ],
      "metadata": {
        "id": "1Wi00KnFRnuM"
      },
      "execution_count": null,
      "outputs": []
    },
    {
      "cell_type": "code",
      "source": [
        "def sum_of_elements(lst):\n",
        "    \"\"\"\n",
        "    Function to find the sum of all elements in the list.\n",
        "    :param lst: List[int] -> List of integers\n",
        "    :return: int -> The sum of all elements in the list\n",
        "    \"\"\"\n",
        "    # TODO: Implement this function\n",
        "    total = 0\n",
        "    for i in lst:\n",
        "        total += i\n",
        "    return total"
      ],
      "metadata": {
        "id": "RGPK38dmRnw2"
      },
      "execution_count": null,
      "outputs": []
    },
    {
      "cell_type": "code",
      "source": [
        "def is_palindrome(lst):\n",
        "    \"\"\"\n",
        "    Function to check if a list is a palindrome.\n",
        "    :param lst: List[int] -> List of integers\n",
        "    :return: bool -> True if the list is a palindrome, False otherwise\n",
        "    \"\"\"\n",
        "    # TODO: Implement this function\n",
        "    return lst == lst[::-1]"
      ],
      "metadata": {
        "id": "bxJFalt5Rnzn"
      },
      "execution_count": null,
      "outputs": []
    },
    {
      "cell_type": "code",
      "source": [
        "def reverse_list(lst):\n",
        "    \"\"\"\n",
        "    Function to reverse the order of elements in a list.\n",
        "    :param lst: List[int] -> List of integers\n",
        "    :return: List[int] -> The list with elements in reversed order\n",
        "    \"\"\"\n",
        "\n",
        "    return lst[::-1]"
      ],
      "metadata": {
        "id": "P818YGmkRn2q"
      },
      "execution_count": null,
      "outputs": []
    },
    {
      "cell_type": "code",
      "source": [
        "def rotate_left(ARR, D):\n",
        "    \"\"\"\n",
        "    Function to rotate the list to the left by D positions.\n",
        "    :param ARR: List[int] -> The list of integers\n",
        "    :param D: int -> The number of positions to rotate\n",
        "    :return: List[int] -> The list after rotation\n",
        "    \"\"\"\n",
        "    # TODO: Implement this function\n",
        "    k = len(ARR)\n",
        "    result = ARR[:]\n",
        "    for i in range(0,k):\n",
        "        result[i] = ARR[(D+i)%k]\n",
        "    return result"
      ],
      "metadata": {
        "id": "FImqNTy8Rn5s"
      },
      "execution_count": null,
      "outputs": []
    },
    {
      "cell_type": "code",
      "source": [
        "def plus_one(digits):\n",
        "    \"\"\"\n",
        "    Function to increment a large integer represented as a list of digits by one.\n",
        "    :param digits: List[int] -> List of digits representing the large integer\n",
        "    :return: List[int] -> The list representing the integer after incrementing\n",
        "    \"\"\"\n",
        "    # TODO: Implement this function\n",
        "    number = \"\"\n",
        "    final_lst =[]\n",
        "    for i in digits:\n",
        "      number = number + str(i)\n",
        "    new_number = str(int(number) + 1)\n",
        "    for i in range(len(new_number)):\n",
        "      final_lst.append(int(new_number[i]))\n",
        "    return final_lst"
      ],
      "metadata": {
        "id": "MneaDjoLR4N-"
      },
      "execution_count": null,
      "outputs": []
    },
    {
      "cell_type": "code",
      "source": [
        "def find_missing_number(nums):\n",
        "    \"\"\"\n",
        "    Function to find the missing number in the array.\n",
        "    :param nums: List[int] -> A list of distinct integers in the range [0, n]\n",
        "    :return: int -> The missing number in the range\n",
        "    \"\"\"\n",
        "    # TODO: Implement this function\n",
        "    nums  = sorted(nums)\n",
        "    if nums[0] != 0:\n",
        "        return 0\n",
        "\n",
        "    for i in range(len(nums)-1):\n",
        "        if nums[i] + 1 != nums[i+1]:\n",
        "            return nums[i] + 1\n",
        "\n",
        "    return nums[-1] + 1"
      ],
      "metadata": {
        "id": "0FuTdfarR4Qf"
      },
      "execution_count": null,
      "outputs": []
    },
    {
      "cell_type": "code",
      "source": [
        "def is_sorted(arr):\n",
        "    \"\"\"\n",
        "    Function to check if the given array is sorted in non-decreasing order.\n",
        "    :param arr: List[int] -> A list of integers\n",
        "    :return: bool -> True if the array is sorted, False otherwise\n",
        "    \"\"\"\n",
        "    # TODO: Implement this function\n",
        "    return arr == sorted(arr)"
      ],
      "metadata": {
        "id": "DeJRuXKFR4TJ"
      },
      "execution_count": null,
      "outputs": []
    },
    {
      "cell_type": "code",
      "source": [
        "def intersection(nums1, nums2):\n",
        "    \"\"\"\n",
        "    Function to find the intersection of two integer arrays.\n",
        "    :param nums1: List[int] -> First array of integers\n",
        "    :param nums2: List[int] -> Second array of integers\n",
        "    :return: List[int] -> An array of unique integers present in both arrays\n",
        "    \"\"\"\n",
        "    nums1, nums2 = set(nums1), set(nums2)\n",
        "    set_new = nums1.intersection(nums2)\n",
        "    final = list(set_new)\n",
        "    return final"
      ],
      "metadata": {
        "id": "oPqBOnBKR4Y3"
      },
      "execution_count": null,
      "outputs": []
    },
    {
      "cell_type": "code",
      "source": [
        "def find_max_consecutive_ones(nums):\n",
        "    \"\"\"\n",
        "    Function to find the maximum number of consecutive 1's in a binary array.\n",
        "    :param nums: List[int] -> A binary array where each element is either 0 or 1\n",
        "    :return: int -> The maximum number of consecutive 1's\n",
        "    \"\"\"\n",
        "    current_count = 0\n",
        "    max_count = 0\n",
        "    for i in nums:\n",
        "        if i == 1:\n",
        "            current_count += 1\n",
        "            max_count = max(current_count, max_count)\n",
        "        else:\n",
        "            current_count = 0\n",
        "    return max_count"
      ],
      "metadata": {
        "id": "Gh1qmLTfQ3nJ"
      },
      "execution_count": null,
      "outputs": []
    },
    {
      "cell_type": "code",
      "source": [
        "def max_subarray_sum(arr):\n",
        "\n",
        "    if not arr:\n",
        "        return 0\n",
        "\n",
        "    max_ending_here = 0\n",
        "    max_so_far = float('-inf')\n",
        "\n",
        "    for x in arr:\n",
        "        max_ending_here = max(x, max_ending_here + x)\n",
        "        max_so_far = max(max_so_far, max_ending_here)\n",
        "\n",
        "    return max_so_far"
      ],
      "metadata": {
        "id": "pkFgsR0uSaWi"
      },
      "execution_count": null,
      "outputs": []
    },
    {
      "cell_type": "code",
      "source": [
        "def generate(numRows):\n",
        "    \"\"\"\n",
        "    Function to generate the first numRows of Pascal's triangle.\n",
        "    :param numRows: int -> Number of rows of Pascal's triangle to generate\n",
        "    :return: List[List[int]] -> The first numRows of Pascal's triangle\n",
        "    \"\"\"\n",
        "    # TODO: Implement this function\n",
        "    if numRows==0:\n",
        "        return []\n",
        "    triangle = [[1]]\n",
        "    for i in range(1, numRows):\n",
        "        prev_row = triangle[-1]\n",
        "        new_row = [1]\n",
        "        for j in range(1, len(prev_row)):\n",
        "            new_row.append(prev_row[j-1] + prev_row[j])\n",
        "        new_row.append(1)\n",
        "        triangle.append(new_row)\n",
        "    return triangle"
      ],
      "metadata": {
        "id": "muQQ4VPtSaZH"
      },
      "execution_count": null,
      "outputs": []
    },
    {
      "cell_type": "code",
      "source": [
        "def rotate(matrix):\n",
        "    \"\"\"\n",
        "    Function to rotate the matrix 90 degrees clockwise.\n",
        "    :param matrix: List[List[int]] -> 2D list representing the matrix\n",
        "    :return: None -> Modifies the matrix in-place\n",
        "    \"\"\"\n",
        "    for i in range(len(matrix)):\n",
        "        for j in range(i+1, len(matrix)):\n",
        "            matrix[i][j], matrix[j][i] = matrix[j][i], matrix[i][j]\n",
        "    for row in matrix:\n",
        "        row = row.reverse()\n",
        "\n",
        "    return matrix"
      ],
      "metadata": {
        "id": "BVvT478HSacP"
      },
      "execution_count": null,
      "outputs": []
    },
    {
      "cell_type": "code",
      "source": [
        "def can_be_rotated(mat, target):\n",
        "    \"\"\"\n",
        "    Function to check if mat can be rotated to match target.\n",
        "    :param mat: List[List[int]] -> The original matrix\n",
        "    :param target: List[List[int]] -> The target matrix\n",
        "    :return: bool -> True if mat can be rotated to match target, otherwise False\n",
        "    \"\"\"\n",
        "    # TODO: Implement this function\n",
        "    for i in range(4):\n",
        "        for i in range(len(mat)):\n",
        "            for j in range(i+1,len(mat)):\n",
        "                mat[i][j], mat[j][i] = mat[j][i], mat[i][j]\n",
        "        for row in mat:\n",
        "            row.reverse()\n",
        "        if mat == target:\n",
        "            return True\n",
        "    return False"
      ],
      "metadata": {
        "id": "PDkXEtv4StSn"
      },
      "execution_count": null,
      "outputs": []
    }
  ]
}