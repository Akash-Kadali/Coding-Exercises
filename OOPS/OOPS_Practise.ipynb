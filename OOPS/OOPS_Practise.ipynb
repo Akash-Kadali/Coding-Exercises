{
  "nbformat": 4,
  "nbformat_minor": 0,
  "metadata": {
    "colab": {
      "provenance": []
    },
    "kernelspec": {
      "name": "python3",
      "display_name": "Python 3"
    },
    "language_info": {
      "name": "python"
    }
  },
  "cells": [
    {
      "cell_type": "code",
      "execution_count": 1,
      "metadata": {
        "id": "PKgcuEwutedU"
      },
      "outputs": [],
      "source": [
        "class BankAccount:\n",
        "    def __init__(self, account_holder, initial_balance):\n",
        "        self.account_holder = account_holder\n",
        "        self.balance = initial_balance\n",
        "\n",
        "    def deposit(self, amount):\n",
        "        \"\"\"Add funds to the account.\"\"\"\n",
        "        if amount > 0:\n",
        "            self.balance += amount\n",
        "        else:\n",
        "            print(\"Deposit amount must be positive.\")\n",
        "\n",
        "    def withdraw(self, amount):\n",
        "        \"\"\"Subtract funds from the account.\"\"\"\n",
        "        if amount > 0 and amount <= self.balance:\n",
        "            self.balance -= amount\n",
        "        else:\n",
        "            print(\"Invalid withdrawal amount or insufficient funds.\")\n",
        "\n",
        "    def transfer(self, recipient_account, amount):\n",
        "        \"\"\"Transfer funds to another account.\"\"\"\n",
        "        if amount > 0 and amount <= self.balance:\n",
        "            self.withdraw(amount)\n",
        "            recipient_account.deposit(amount)\n",
        "        else:\n",
        "            print(\"Transfer failed: Insufficient funds or invalid amount.\")"
      ]
    },
    {
      "cell_type": "code",
      "source": [
        "class Calculator:\n",
        "    def __init__(self, num1, num2):\n",
        "        # Initialize the attributes num1 and num2\n",
        "        self.num1 = num1\n",
        "        self.num2 = num2\n",
        "\n",
        "    def add(self):\n",
        "        # Return the sum of num1 and num2\n",
        "        return self.num1 + self.num2\n",
        "\n",
        "    def subtract(self):\n",
        "        # Return the result of subtracting num2 from num1\n",
        "        return self.num1 - self.num2\n",
        "\n",
        "\n",
        "    def multiply(self, factor):\n",
        "        # Return the product of num1 and factor\n",
        "        return self.num1 * factor\n",
        "\n",
        "    def divide(self, divisor):\n",
        "        # Return the result of dividing num1 by divisor\n",
        "        # If divisor is zero, print an error message and return None\n",
        "        if divisor>0:\n",
        "            return self.num1/ divisor\n",
        "        else:\n",
        "            print(\"Can't divide by 0\")\n",
        "            return None\n"
      ],
      "metadata": {
        "id": "rYrLHyfDVqb2"
      },
      "execution_count": 2,
      "outputs": []
    }
  ]
}