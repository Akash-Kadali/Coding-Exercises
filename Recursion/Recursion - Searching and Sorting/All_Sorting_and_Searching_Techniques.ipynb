{
  "nbformat": 4,
  "nbformat_minor": 0,
  "metadata": {
    "colab": {
      "provenance": []
    },
    "kernelspec": {
      "name": "python3",
      "display_name": "Python 3"
    },
    "language_info": {
      "name": "python"
    }
  },
  "cells": [
    {
      "cell_type": "markdown",
      "source": [
        "**BUBBLE** **SORT**"
      ],
      "metadata": {
        "id": "QBvB02muka2Q"
      }
    },
    {
      "cell_type": "code",
      "source": [
        "from typing import List\n",
        "\n",
        "def bubblesortArray(nums):\n",
        "  for i in range(len(nums)):\n",
        "    flag = False\n",
        "    for j in range(len(nums)-i-1):\n",
        "      if nums[j]>nums[j+1]:\n",
        "        nums[j], nums[j+1] = nums[j+1], nums[j]\n",
        "        flag = True\n",
        "    if flag == False:\n",
        "      break\n",
        "\n",
        "  return nums\n",
        "lst = [1,5,2,4,55,6,6,23,666,64,4,43,37,6,4]\n",
        "print(bubblesortArray(lst))"
      ],
      "metadata": {
        "colab": {
          "base_uri": "https://localhost:8080/"
        },
        "id": "cWpG22MZ5PVq",
        "outputId": "cd50003d-ed55-40a3-e0f8-773e7e1d1d8a"
      },
      "execution_count": 1,
      "outputs": [
        {
          "output_type": "stream",
          "name": "stdout",
          "text": [
            "[1, 2, 4, 4, 4, 5, 6, 6, 6, 23, 37, 43, 55, 64, 666]\n"
          ]
        }
      ]
    },
    {
      "cell_type": "markdown",
      "source": [
        "**INSERTION** **SORT**"
      ],
      "metadata": {
        "id": "IEVSFOFO86SO"
      }
    },
    {
      "cell_type": "code",
      "source": [
        "def insertionsortArray(nums):\n",
        "  for i in range(1, len(nums)):\n",
        "    key = nums[i]\n",
        "    j = i - 1\n",
        "    while j>=0 and nums[j]>key:#Greater than remembered key\n",
        "      nums[j+1] = nums[j]\n",
        "      j -=1\n",
        "    nums[j+1] = key\n",
        "  return nums\n",
        "lst = [1,5,2,4,55,6,6,23,666,64,4,43,37,6,4]\n",
        "print(insertionsortArray(lst))"
      ],
      "metadata": {
        "colab": {
          "base_uri": "https://localhost:8080/"
        },
        "id": "B6UTdPAjhtes",
        "outputId": "15121e48-54ec-4f96-820e-f7c8bf5eb8de"
      },
      "execution_count": 2,
      "outputs": [
        {
          "output_type": "stream",
          "name": "stdout",
          "text": [
            "[1, 2, 4, 4, 4, 5, 6, 6, 6, 23, 37, 43, 55, 64, 666]\n"
          ]
        }
      ]
    },
    {
      "cell_type": "markdown",
      "source": [
        "**LINEAR SEARCH**"
      ],
      "metadata": {
        "id": "Ybgck2UQBOqk"
      }
    },
    {
      "cell_type": "code",
      "source": [
        "def linear_search(arr, target, index =0):\n",
        "    \"\"\"\n",
        "    Function to perform linear search on an array using recursion.\n",
        "\n",
        "    Parameters:\n",
        "    arr (list of int): The array of integers.\n",
        "    target (int): The element to search for.\n",
        "\n",
        "    Returns:\n",
        "    bool: True if target is found, False otherwise.\n",
        "    \"\"\"\n",
        "    # Your code here\n",
        "    if index>len(arr)-1:\n",
        "      return index\n",
        "    if arr[index] == target:\n",
        "      return index\n",
        "    return linear_search(arr, target, index+1)\n",
        "lst = [1,5,2,4,55,6,6,23,666,64,4,43,37,6,4]\n",
        "linear_search(lst, 55)"
      ],
      "metadata": {
        "colab": {
          "base_uri": "https://localhost:8080/"
        },
        "id": "_tGTvDpYCalN",
        "outputId": "b8e60424-82e7-4524-89ea-ae91241a6809"
      },
      "execution_count": 3,
      "outputs": [
        {
          "output_type": "execute_result",
          "data": {
            "text/plain": [
              "4"
            ]
          },
          "metadata": {},
          "execution_count": 3
        }
      ]
    },
    {
      "cell_type": "markdown",
      "source": [
        "**BINARY SEARCH**"
      ],
      "metadata": {
        "id": "Cml68KkVBRD5"
      }
    },
    {
      "cell_type": "code",
      "source": [
        "def binary_search(arr, target, low = None, high = None):\n",
        "    \"\"\"\n",
        "    Function to perform linear search on an array using recursion.\n",
        "\n",
        "    Parameters:\n",
        "    arr (list of int): The array of integers.\n",
        "    target (int): The element to search for.\n",
        "\n",
        "    Returns:\n",
        "    bool: True if target is found, False otherwise.\n",
        "    \"\"\"\n",
        "    if low == None and high == None:\n",
        "      low, high = 0, len(arr) -1\n",
        "    if low>high:\n",
        "      return -1\n",
        "    mid = (low + high)//2\n",
        "    if arr[mid] == target:\n",
        "      return mid\n",
        "    elif arr[mid] >target:\n",
        "      return binary_search(arr, target, low, mid-1)\n",
        "    elif arr[mid] < target:\n",
        "      return binary_search(arr, target, mid +1, high)\n",
        "\n",
        "lst = [1,5,2,4,55,6,6,23,666,64,4,43,37,6,4]\n",
        "lst.sort()\n",
        "binary_search(lst, 666)"
      ],
      "metadata": {
        "colab": {
          "base_uri": "https://localhost:8080/"
        },
        "id": "D2gduJOZDiDb",
        "outputId": "34f77627-08e7-4c94-af22-ca4434518837"
      },
      "execution_count": 4,
      "outputs": [
        {
          "output_type": "execute_result",
          "data": {
            "text/plain": [
              "14"
            ]
          },
          "metadata": {},
          "execution_count": 4
        }
      ]
    },
    {
      "cell_type": "markdown",
      "source": [
        "**MERGE SORT**"
      ],
      "metadata": {
        "id": "mzMdH4LSBTt9"
      }
    },
    {
      "cell_type": "code",
      "source": [
        "from typing import List\n",
        "\n",
        "class Solution:\n",
        "    def mergesortArray(self, nums: List[int]) -> List[int]:\n",
        "        if len(nums) <= 1:\n",
        "            return nums\n",
        "        mid = len(nums) // 2\n",
        "        left_half = self.mergesortArray(nums[:mid])\n",
        "        right_half = self.mergesortArray(nums[mid:])\n",
        "        return self.merge(left_half, right_half)\n",
        "\n",
        "    def merge(self, left_half: List[int], right_half: List[int]) -> List[int]:\n",
        "        i = 0\n",
        "        j = 0\n",
        "        result = []\n",
        "        while i < len(left_half) and j < len(right_half):\n",
        "            if left_half[i] < right_half[j]:\n",
        "                result.append(left_half[i])\n",
        "                i += 1\n",
        "            else:\n",
        "                result.append(right_half[j])\n",
        "                j += 1\n",
        "        result.extend(left_half[i:])  # Extend with the remaining elements of left_half\n",
        "        result.extend(right_half[j:])  # Extend with the remaining elements of right_half\n",
        "        return result\n",
        "\n",
        "# Example usage\n",
        "nums = [10, 7, 8, 9, 1, 5]\n",
        "solution = Solution()\n",
        "sorted_nums = solution.mergesortArray(nums)\n",
        "print(\"Sorted Array:\", sorted_nums)"
      ],
      "metadata": {
        "id": "EffdMQ_hrrIG",
        "colab": {
          "base_uri": "https://localhost:8080/"
        },
        "outputId": "3cdaadd7-5f34-4581-8f7d-9343c0612279"
      },
      "execution_count": 5,
      "outputs": [
        {
          "output_type": "stream",
          "name": "stdout",
          "text": [
            "Sorted Array: [1, 5, 7, 8, 9, 10]\n"
          ]
        }
      ]
    },
    {
      "cell_type": "markdown",
      "source": [
        "**QUICK SORT**"
      ],
      "metadata": {
        "id": "NP8bgi8KRBwQ"
      }
    },
    {
      "cell_type": "code",
      "source": [
        "import random\n",
        "\n",
        "def quick_sort(arr, low=None, high=None):\n",
        "    # Initialize low and high on the first call\n",
        "    if low is None and high is None:\n",
        "        low, high = 0, len(arr) - 1\n",
        "\n",
        "    while low < high:\n",
        "        pivot_index = partition(arr, low, high)\n",
        "\n",
        "        # Use recursion for smaller partition to optimize stack usage\n",
        "        if pivot_index - low < high - pivot_index:\n",
        "            quick_sort(arr, low, pivot_index - 1)\n",
        "            low = pivot_index + 1\n",
        "        else:\n",
        "            quick_sort(arr, pivot_index + 1, high)\n",
        "            high = pivot_index - 1\n",
        "\n",
        "def partition(arr, low, high):\n",
        "    # Select a random pivot and move it to the end\n",
        "    pivot_index = random.randint(low, high)\n",
        "    arr[pivot_index], arr[high] = arr[high], arr[pivot_index]\n",
        "    pivot = arr[high]\n",
        "\n",
        "    # Partitioning logic\n",
        "    i = low - 1\n",
        "    for j in range(low, high):\n",
        "        if arr[j] < pivot:\n",
        "            i += 1\n",
        "            arr[i], arr[j] = arr[j], arr[i]\n",
        "\n",
        "    # Place pivot in the correct position\n",
        "    arr[i + 1], arr[high] = arr[high], arr[i + 1]\n",
        "    return i + 1\n",
        "\n",
        "# Example usage\n",
        "arr = [10, 7, 8, 9, 1, 5]\n",
        "quick_sort(arr)\n",
        "print(\"Sorted Array:\", arr)"
      ],
      "metadata": {
        "id": "pUj54vkW2mxi",
        "colab": {
          "base_uri": "https://localhost:8080/"
        },
        "outputId": "637a02d5-55b8-433b-8e34-39a74caf9522"
      },
      "execution_count": 6,
      "outputs": [
        {
          "output_type": "stream",
          "name": "stdout",
          "text": [
            "Sorted Array: [1, 5, 7, 8, 9, 10]\n"
          ]
        }
      ]
    },
    {
      "cell_type": "markdown",
      "source": [
        "**SELECTION** **SORT**"
      ],
      "metadata": {
        "id": "SLVFc9wmt4FY"
      }
    },
    {
      "cell_type": "code",
      "source": [
        "from typing import List\n",
        "\n",
        "def selectionsortArray(nums: List[int]) -> List[int]:\n",
        "    for i in range(len(nums) - 1):\n",
        "        min_index = i\n",
        "        for j in range(i + 1, len(nums)):\n",
        "            if nums[j] < nums[min_index]:\n",
        "                min_index = j\n",
        "        nums[i], nums[min_index] = nums[min_index], nums[i]\n",
        "\n",
        "    return nums\n",
        "\n",
        "lst = [1, 5, 2, 4, 55, 6, 6, 23, 666, 64, 4, 43, 37, 6, 4]\n",
        "print(selectionsortArray(lst))"
      ],
      "metadata": {
        "colab": {
          "base_uri": "https://localhost:8080/"
        },
        "id": "UsCsgAwmt0FA",
        "outputId": "608ee209-2bee-4548-cbd7-4ed0c459c06c"
      },
      "execution_count": 7,
      "outputs": [
        {
          "output_type": "stream",
          "name": "stdout",
          "text": [
            "[1, 2, 4, 4, 4, 5, 6, 6, 6, 23, 37, 43, 55, 64, 666]\n"
          ]
        }
      ]
    }
  ]
}