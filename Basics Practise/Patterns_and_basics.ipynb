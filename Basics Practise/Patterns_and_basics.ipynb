{
  "nbformat": 4,
  "nbformat_minor": 0,
  "metadata": {
    "colab": {
      "provenance": []
    },
    "kernelspec": {
      "name": "python3",
      "display_name": "Python 3"
    },
    "language_info": {
      "name": "python"
    }
  },
  "cells": [
    {
      "cell_type": "code",
      "source": [
        "def generate_square(n):\n",
        "    \"\"\"\n",
        "    Function to return a square pattern of '*' of side n as a list of strings.\n",
        "\n",
        "    Parameters:\n",
        "    n (int): The size of the square.\n",
        "\n",
        "    Returns:\n",
        "    list: A list of strings where each string represents a row of the square.\n",
        "    \"\"\"\n",
        "    # Your code here\n",
        "    if n <= 0:\n",
        "        return []\n",
        "\n",
        "    return [\"*\" * n for _ in range(n)]"
      ],
      "metadata": {
        "id": "ULlwkXQLysdc"
      },
      "execution_count": null,
      "outputs": []
    },
    {
      "cell_type": "code",
      "source": [
        "def generate_hollow_square(n):\n",
        "    \"\"\"\n",
        "    Function to return a hollow square pattern of '*' of side n as a list of strings.\n",
        "\n",
        "    Parameters:\n",
        "    n (int): The size of the square.\n",
        "\n",
        "    Returns:\n",
        "    list: A list of strings where each string represents a row of the hollow square.\n",
        "    \"\"\"\n",
        "    # Your code here\n",
        "    if n <= 0:\n",
        "        return []  # Return an empty list for invalid sizes\n",
        "    sq = []\n",
        "    for i in range(n):\n",
        "\n",
        "        if i == 0 or i == n-1:\n",
        "            sq.append(\"*\" * n)\n",
        "        else:\n",
        "            sq.append(\"*\" + \" \" * (n - 2) + \"*\")\n",
        "\n",
        "    return sq\n"
      ],
      "metadata": {
        "id": "m972vb34ysgK"
      },
      "execution_count": null,
      "outputs": []
    },
    {
      "cell_type": "code",
      "source": [
        "def generate_rectangle(n, m):\n",
        "    \"\"\"\n",
        "    Function to return a rectangle pattern of '*' with length n and breadth m as a list of strings.\n",
        "\n",
        "    Parameters:\n",
        "    n (int): The number of rows in the rectangle.\n",
        "    m (int): The number of columns in the rectangle.\n",
        "\n",
        "    Returns:\n",
        "    list: A list of strings where each string represents a row of the rectangle pattern.\n",
        "    \"\"\"\n",
        "    # Your code here\n",
        "    lst = []\n",
        "    for i in range(n):\n",
        "        lst.append(\"*\" * m)\n",
        "\n",
        "    return lst"
      ],
      "metadata": {
        "id": "-QoYQsYIysie"
      },
      "execution_count": null,
      "outputs": []
    },
    {
      "cell_type": "code",
      "source": [
        "def generate_inverted_triangle(n):\n",
        "    \"\"\"\n",
        "    Function to return an inverted right-angled triangle of '*' of side n as a list of strings.\n",
        "\n",
        "    Parameters:\n",
        "    n (int): The height and base of the triangle.\n",
        "\n",
        "    Returns:\n",
        "    list: A list of strings where each string represents a row of the triangle.\n",
        "    \"\"\"\n",
        "    # Your code here\n",
        "    lst = []\n",
        "    for i in range(n, 0, -1):\n",
        "        lst.append(\"*\" * i)\n",
        "    return lst\n"
      ],
      "metadata": {
        "id": "xyMYtFMBysk7"
      },
      "execution_count": null,
      "outputs": []
    },
    {
      "cell_type": "code",
      "source": [
        "def generate_pyramid(n):\n",
        "    \"\"\"\n",
        "    Function to return a pyramid pattern of '*' of side n as a list of strings.\n",
        "\n",
        "    Parameters:\n",
        "    n (int): The number of rows in the pyramid.\n",
        "\n",
        "    Returns:\n",
        "    list: A list of strings where each string represents a row of the pyramid.\n",
        "    \"\"\"\n",
        "    # Your code here\n",
        "    lst = []\n",
        "    for i in range(n,0,-1):\n",
        "        lst.append(\" \"*(i - 1) + \"*\" * (2*(n-i)+1) + \" \"*(i - 1))\n",
        "    return lst\n",
        "print(generate_pyramid(5))"
      ],
      "metadata": {
        "id": "gY0vfD2Jysnc"
      },
      "execution_count": null,
      "outputs": []
    },
    {
      "cell_type": "code",
      "source": [
        "def generate_inverted_pyramid(n):\n",
        "    \"\"\"\n",
        "    Function to return an inverted pyramid pattern of '*' of side n as a list of strings.\n",
        "\n",
        "    Parameters:\n",
        "    n (int): The number of rows in the inverted pyramid.\n",
        "\n",
        "    Returns:\n",
        "    list: A list of strings where each string represents a row of the inverted pyramid.\n",
        "    \"\"\"\n",
        "    # Your code here\n",
        "    lst = []\n",
        "    for i in range(n,0,-1):\n",
        "        lst.append(\" \" * (n-i) + \"*\" * (2*i -1) + \" \" * (n-i))\n",
        "    return lst"
      ],
      "metadata": {
        "id": "E7qp_R42ysqC"
      },
      "execution_count": null,
      "outputs": []
    },
    {
      "cell_type": "code",
      "source": [
        "def generate_number_triangle(n):\n",
        "    \"\"\"\n",
        "    Function to return a right-angled triangle of repeated numbers of side n as a list of strings.\n",
        "\n",
        "    Parameters:\n",
        "    n (int): The height of the triangle.\n",
        "\n",
        "    Returns:\n",
        "    list: A list of strings where each string represents a row of the triangle.\n",
        "    \"\"\"\n",
        "    # Your code here\n",
        "    lst = []\n",
        "    for i in range(1,n+1):\n",
        "        lst.append(f\"{i}\"*i)\n",
        "    return lst"
      ],
      "metadata": {
        "id": "hgoOT9EKyssj"
      },
      "execution_count": null,
      "outputs": []
    },
    {
      "cell_type": "code",
      "source": [
        "def generate_floyds_triangle(n):\n",
        "    \"\"\"\n",
        "    Function to return the first n rows of Floyd's Triangle as a list of strings.\n",
        "\n",
        "    Parameters:\n",
        "    n (int): The number of rows in the triangle.\n",
        "\n",
        "    Returns:\n",
        "    list: A list of strings where each string represents a row of Floyd's Triangle.\n",
        "    \"\"\"\n",
        "    # Your code here\n",
        "    lst = []\n",
        "    num = 1\n",
        "    for i in range(1,n+1):\n",
        "        num2 = []\n",
        "        for j in range(i):\n",
        "            num2.append(str(num))\n",
        "            num += 1\n",
        "        lst.append(\" \".join(num2))\n",
        "    return lst"
      ],
      "metadata": {
        "id": "q1N9zUWCysu8"
      },
      "execution_count": null,
      "outputs": []
    },
    {
      "cell_type": "code",
      "source": [
        "def generate_diamond(n):\n",
        "    \"\"\"\n",
        "    Function to return a diamond pattern of '*' of side n as a list of strings.\n",
        "\n",
        "    Parameters:\n",
        "    n (int): The number of rows for the upper part of the diamond.\n",
        "\n",
        "    Returns:\n",
        "    list: A list of strings where each string represents a row of the diamond.\n",
        "    \"\"\"\n",
        "    # Your code here\n",
        "    lst = []\n",
        "    for i in range(1,2*n):\n",
        "        if i <= n:\n",
        "          k = n\n",
        "          lst.append(\" \" * (k-i) + \"*\" * (2*i - 1) + \" \" * (k - i))\n",
        "        else:\n",
        "          lst.append(\" \" * (i - n) + \"*\" * (2 * (2 * n - i) - 1) + \" \" * (i - n))\n",
        "    return lst"
      ],
      "metadata": {
        "id": "904nxA7Xysxk"
      },
      "execution_count": null,
      "outputs": []
    },
    {
      "cell_type": "code",
      "source": [
        "def generate_right_angled_triangle(n):\n",
        "    \"\"\"\n",
        "    Function to return a right-angled triangle of '*' of side n as a list of strings.\n",
        "\n",
        "    Parameters:\n",
        "    n (int): The height of the triangle.\n",
        "\n",
        "    Returns:\n",
        "    list: A list of strings where each string represents a row of the triangle.\n",
        "    \"\"\"\n",
        "    # Your code here\n",
        "    lst = []\n",
        "    for i in range(1,n+1):\n",
        "        lst.append(\" \" * (n-i) + \"*\" * i)\n",
        "    return lst"
      ],
      "metadata": {
        "id": "tv9oPtGjysz7"
      },
      "execution_count": null,
      "outputs": []
    },
    {
      "cell_type": "code",
      "source": [
        "def generate_sandglass(n):\n",
        "    \"\"\"\n",
        "    Function to return a sandglass pattern of '*' of side n as a list of strings.\n",
        "\n",
        "    Parameters:\n",
        "    n (int): The height of the sandglass.\n",
        "\n",
        "    Returns:\n",
        "    list: A list of strings where each string represents a row of the sandglass pattern.\n",
        "    \"\"\"\n",
        "    # Your code here\n",
        "    lst = []\n",
        "    for i in range(1,n+1):\n",
        "        lst.append(\" \" * (i-1) + \"*\" * ((2*n) - (2*i) + 1) + \" \" * (i-1))\n",
        "    for i in range(n+1, 2*n):\n",
        "        lst.append(\" \" * (2*n-i-1) + \"*\" * (2*(i - n) + 1) + \" \" * (2*n-i-1))\n",
        "    return lst"
      ],
      "metadata": {
        "id": "dvQ7kZdiys2v"
      },
      "execution_count": null,
      "outputs": []
    },
    {
      "cell_type": "code",
      "source": [
        "def generate_hollow_right_angled_triangle(n):\n",
        "    \"\"\"\n",
        "    Function to return a hollow right-angled triangle of '*' of side n as a list of strings.\n",
        "\n",
        "    Parameters:\n",
        "    n (int): The height of the triangle.\n",
        "\n",
        "    Returns:\n",
        "    list: A list of strings where each string represents a row of the triangle.\n",
        "    \"\"\"\n",
        "    lst = []\n",
        "    for i in range(1, n + 1):\n",
        "        if i == 1:\n",
        "            lst.append(\"*\")  # First row\n",
        "        elif i == n:\n",
        "            lst.append(\"*\" * i)  # Last row is fully filled\n",
        "        else:\n",
        "            lst.append(\"*\" + \" \" * (i - 2) + \"*\")  # Hollow middle rows\n",
        "    return lst"
      ],
      "metadata": {
        "id": "e0oTBhTPys6H"
      },
      "execution_count": null,
      "outputs": []
    },
    {
      "cell_type": "code",
      "source": [
        "def generate_hollow_inverted_right_angled_triangle(n):\n",
        "    \"\"\"\n",
        "    Function to return a hollow inverted right-angled triangle of '*' of side n as a list of strings.\n",
        "\n",
        "    Parameters:\n",
        "    n (int): The height of the triangle.\n",
        "\n",
        "    Returns:\n",
        "    list: A list of strings where each string represents a row of the triangle.\n",
        "    \"\"\"\n",
        "    # Your code here\n",
        "    lst = []\n",
        "    for i in range(1, n+1):\n",
        "        if i == 1:\n",
        "            lst.append(\"*\" * n)\n",
        "        elif i == n:\n",
        "            lst.append(\"*\")\n",
        "        else:\n",
        "            lst.append(\"*\" + \" \" * (n-i-1) + \"*\")\n",
        "    return lst"
      ],
      "metadata": {
        "id": "ASkrZrqbznuR"
      },
      "execution_count": null,
      "outputs": []
    },
    {
      "cell_type": "code",
      "source": [
        "def generate_number_pyramid(n):\n",
        "    \"\"\"\n",
        "    Function to return a pyramid pattern of numbers of height n as a list of strings.\n",
        "\n",
        "    Parameters:\n",
        "    n (int): The height of the pyramid.\n",
        "\n",
        "    Returns:\n",
        "    list: A list of strings where each string represents a row of the pyramid pattern.\n",
        "    \"\"\"\n",
        "    lst = []\n",
        "    for i in range(1, n + 1):\n",
        "        num = 1\n",
        "        # Generate the number sequence for the row\n",
        "        new_lst = [num + j for j in range(i)]\n",
        "        # Convert numbers to a formatted string\n",
        "        row_numbers = \" \".join(str(x) for x in new_lst)\n",
        "        # Center-align the row with spaces\n",
        "        lst.append(\" \" * (n - i) + row_numbers + \" \" * (n - i))\n",
        "        num += 1\n",
        "    return lst"
      ],
      "metadata": {
        "id": "QW62nRDDznxG"
      },
      "execution_count": null,
      "outputs": []
    },
    {
      "cell_type": "code",
      "source": [
        "def celsius_to_fahrenheit(C):\n",
        "    \"\"\"\n",
        "    Function to convert temperature from Celsius to Fahrenheit.\n",
        "\n",
        "    Parameters:\n",
        "    C (float): The temperature in Celsius.\n",
        "\n",
        "    Returns:\n",
        "    float: The temperature in Fahrenheit.\n",
        "    \"\"\"\n",
        "    # Your code here\n",
        "    return (9/5)*C + 32"
      ],
      "metadata": {
        "id": "407lyFhiznzp"
      },
      "execution_count": null,
      "outputs": []
    },
    {
      "cell_type": "code",
      "source": [
        "def area_of_rectangle(length, breadth):\n",
        "    \"\"\"\n",
        "    Function to calculate the area of a rectangle.\n",
        "\n",
        "    Parameters:\n",
        "    length (float): The length of the rectangle.\n",
        "    breadth (float): The breadth of the rectangle.\n",
        "\n",
        "    Returns:\n",
        "    float: The area of the rectangle.\n",
        "    \"\"\"\n",
        "    # Your code here\n",
        "    return length * breadth"
      ],
      "metadata": {
        "id": "hGYN0_Gizn2J"
      },
      "execution_count": null,
      "outputs": []
    },
    {
      "cell_type": "code",
      "source": [
        "def calculate_distance(speed, time):\n",
        "    \"\"\"\n",
        "    Function to calculate the distance traveled by a vehicle.\n",
        "\n",
        "    Parameters:\n",
        "    speed (float): The speed of the vehicle.\n",
        "    time (float): The time the vehicle has traveled.\n",
        "\n",
        "    Returns:\n",
        "    float: The distance traveled by the vehicle.\n",
        "    \"\"\"\n",
        "    # Your code here\n",
        "    return speed * time"
      ],
      "metadata": {
        "id": "LYBaA5Snzn4l"
      },
      "execution_count": null,
      "outputs": []
    },
    {
      "cell_type": "code",
      "source": [
        "def calculate_lift_rounds(n, capacity):\n",
        "    \"\"\"\n",
        "    Function to calculate the number of rounds the lift needs to cover.\n",
        "\n",
        "    Parameters:\n",
        "    n (int): Total number of people.\n",
        "    capacity (int): Maximum number of people the lift can carry in one round.\n",
        "\n",
        "    Returns:\n",
        "    int: The number of rounds required to transport all people to the top floor.\n",
        "    \"\"\"\n",
        "    # Your code here\n",
        "    if n < capacity:\n",
        "        return 1\n",
        "    elif n%capacity == 0:\n",
        "        return n//capacity\n",
        "    else:\n",
        "        return n//capacity + 1\n"
      ],
      "metadata": {
        "id": "x4ubKjWMzn7N"
      },
      "execution_count": null,
      "outputs": []
    },
    {
      "cell_type": "code",
      "source": [
        "def calculate_y(slope, intercept, x):\n",
        "    \"\"\"\n",
        "    Function to calculate the value of y using the slope-intercept form of a line.\n",
        "\n",
        "    Parameters:\n",
        "    slope (float): The slope of the line.\n",
        "    intercept (float): The y-intercept of the line.\n",
        "    x (float): The value of x for which y needs to be calculated.\n",
        "\n",
        "    Returns:\n",
        "    float: The calculated value of y.\n",
        "    \"\"\"\n",
        "    # Your code here\n",
        "    return slope*x + intercept"
      ],
      "metadata": {
        "id": "FlfXRE_mzn9q"
      },
      "execution_count": null,
      "outputs": []
    }
  ]
}